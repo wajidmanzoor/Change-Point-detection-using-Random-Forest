{
 "cells": [
  {
   "cell_type": "code",
   "execution_count": 1,
   "metadata": {},
   "outputs": [
    {
     "name": "stdout",
     "output_type": "stream",
     "text": [
      "Requirement already satisfied: changeforest in c:\\users\\18565\\appdata\\local\\packages\\pythonsoftwarefoundation.python.3.11_qbz5n2kfra8p0\\localcache\\local-packages\\python311\\site-packages (1.1.4)\n"
     ]
    }
   ],
   "source": [
    "!pip install changeforest"
   ]
  },
  {
   "cell_type": "code",
   "execution_count": 2,
   "metadata": {},
   "outputs": [],
   "source": [
    "import numpy as np\n",
    "from changeforest import changeforest\n",
    "from scipy.spatial.distance import cdist\n",
    "from sklearn.metrics import adjusted_rand_score as sklearn_adjusted_rand_score\n",
    "from tqdm import tqdm"
   ]
  },
  {
   "cell_type": "code",
   "execution_count": 3,
   "metadata": {},
   "outputs": [],
   "source": [
    "dataset_generator = np.random.default_rng(12)"
   ]
  },
  {
   "cell_type": "markdown",
   "metadata": {},
   "source": [
    "# Rand Index and Adjusted Rand index\n",
    "\n",
    "The Rand Index computes a similarity measure between two clusterings by considering all pairs of samples and counting pairs that are assigned in the same or different clusters in the predicted and true clusterings.\n",
    "\n",
    "let $tp,fp,tn$ and $fn$ be true positive pairs,false positive pairs,true negative pairs and false negative pairs.Then,\n",
    "\n",
    "$$ RI = \\frac{tp+tn}{tp+tn+fp+fn}$$\n",
    "\n",
    "The adjusted rand index is rand index adjusted for chance \n",
    "\n",
    "$$ ARI = 2 \\times \\frac{tp \\times tn - fn \\times fp}{(tp + fn) \\times (fn + tn) + (tp + fp) \\times (fp + tn)}$$\n",
    "\n",
    "Function to caculate the same\n",
    "\n",
    "```\n",
    "def calculate_rand_index_and_adjusted_rand_index(y_true,y_pred):\n",
    "  pairs = []\n",
    "  for i in range(len(y_true)):\n",
    "    for j in range(i+1,len(y_true)):\n",
    "      pairs.append((i,j))\n",
    "  tp,tn,fp,fn =0,0,0,0\n",
    "  for i,j in pairs:\n",
    "    if y_true[i] == y_true[j] and y[j]==y[i]:\n",
    "      tp+=1\n",
    "    elif y_true[i] != y_true[j] and y[j]!=y[i]:\n",
    "      tn+=1\n",
    "    elif y_true[i]==y_true[j] and  y[j]!=y[i]:\n",
    "      fn+=1\n",
    "    elif y_true[i]!=y_true[j] and y[j]==y[i]:\n",
    "      fp+=1\n",
    "  rand_index = (tp+tn)/ (tp+tn+fp+fn)\n",
    "  adjusted_rand_index = 2.0 * (tp * tn - fn * fp) / ((tp + fn) * (fn + tn) + (tp + fp) * (fp + tn))\n",
    "  return rand_index,adjusted_rand_index\n",
    "\n",
    "```\n",
    "\n",
    "or you can use \n",
    "```\n",
    "sklearn.metrics.adjusted_rand_score\n",
    "```\n",
    "\n"
   ]
  },
  {
   "cell_type": "code",
   "execution_count": 5,
   "metadata": {},
   "outputs": [],
   "source": [
    "def adjusted_rand_score(true_changepoints, estimated_changepoints):\n",
    "    \"\"\"Compute the adjusted rand index between two sets of changepoints.\n",
    "\n",
    "    Args:\n",
    "      true_changepoints (List) : list of true change points.\n",
    "      estimated_changepoints (List) : list of estimated change points.\n",
    "    \"\"\"\n",
    "    true_changepoints = np.array(true_changepoints, dtype=np.int_)\n",
    "    estimated_changepoints = np.array(estimated_changepoints, dtype=np.int_)\n",
    "\n",
    "    y_true = np.zeros(true_changepoints[-1])\n",
    "    for i, (start, stop) in enumerate(zip(true_changepoints[:-1], true_changepoints[1:])):\n",
    "        y_true[start:stop] = i\n",
    "\n",
    "    y_estimated = np.zeros(estimated_changepoints[-1])\n",
    "    for i, (start, stop) in enumerate(zip(estimated_changepoints[:-1], estimated_changepoints[1:])):\n",
    "        y_estimated[start:stop] = i\n",
    "\n",
    "    return sklearn_adjusted_rand_score(y_true, y_estimated)"
   ]
  },
  {
   "cell_type": "code",
   "execution_count": null,
   "metadata": {},
   "outputs": [],
   "source": []
  }
 ],
 "metadata": {
  "kernelspec": {
   "display_name": "Python 3",
   "language": "python",
   "name": "python3"
  },
  "language_info": {
   "codemirror_mode": {
    "name": "ipython",
    "version": 3
   },
   "file_extension": ".py",
   "mimetype": "text/x-python",
   "name": "python",
   "nbconvert_exporter": "python",
   "pygments_lexer": "ipython3",
   "version": "3.11.7"
  }
 },
 "nbformat": 4,
 "nbformat_minor": 2
}
